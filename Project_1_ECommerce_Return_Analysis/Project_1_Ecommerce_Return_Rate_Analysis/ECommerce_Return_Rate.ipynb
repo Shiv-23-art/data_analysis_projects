{
 "cells": [
  {
   "cell_type": "code",
   "execution_count": 1,
   "id": "ce2f5e0a-ac2d-4624-82aa-99cd9ad6f81a",
   "metadata": {},
   "outputs": [],
   "source": [
    "# ECommerce_Return_Rate_Analysis"
   ]
  },
  {
   "cell_type": "code",
   "execution_count": 2,
   "id": "e72acc3f-c155-4671-b3a9-0289b68f3884",
   "metadata": {},
   "outputs": [],
   "source": [
    "import pandas as pd\n",
    "\n",
    "# Load the dataset\n",
    "df = pd.read_csv(\"ecommerce_returns_synthetic_data.csv\")"
   ]
  },
  {
   "cell_type": "code",
   "execution_count": 3,
   "id": "c358d448-6cd3-4200-879d-4822d6b63f50",
   "metadata": {},
   "outputs": [
    {
     "name": "stdout",
     "output_type": "stream",
     "text": [
      "Sample Data:\n",
      "      Order_ID    Product_ID       User_ID  Order_Date Return_Date  \\\n",
      "0  ORD00000000  PROD00000000  USER00000000  05-08-2023  26-08-2024   \n",
      "1  ORD00000001  PROD00000001  USER00000001  09-10-2023  09-11-2023   \n",
      "2  ORD00000002  PROD00000002  USER00000002  06-05-2023         NaN   \n",
      "3  ORD00000003  PROD00000003  USER00000003  29-08-2024         NaN   \n",
      "4  ORD00000004  PROD00000004  USER00000004  16-01-2023         NaN   \n",
      "\n",
      "  Product_Category  Product_Price  Order_Quantity Return_Reason Return_Status  \\\n",
      "0         Clothing         411.59               3  Changed mind      Returned   \n",
      "1            Books         288.88               3    Wrong item      Returned   \n",
      "2             Toys         390.03               5           NaN  Not Returned   \n",
      "3             Toys         401.09               3           NaN  Not Returned   \n",
      "4            Books         110.09               4           NaN  Not Returned   \n",
      "\n",
      "   Days_to_Return  User_Age User_Gender User_Location Payment_Method  \\\n",
      "0           387.0        58        Male        City54     Debit Card   \n",
      "1            31.0        68      Female        City85    Credit Card   \n",
      "2             NaN        22      Female        City30     Debit Card   \n",
      "3             NaN        40        Male        City95         PayPal   \n",
      "4             NaN        34      Female        City80      Gift Card   \n",
      "\n",
      "  Shipping_Method  Discount_Applied  \n",
      "0        Next-Day             45.27  \n",
      "1         Express             47.79  \n",
      "2        Next-Day             26.64  \n",
      "3        Next-Day             15.37  \n",
      "4        Standard             16.37   Limit to 5\n"
     ]
    }
   ],
   "source": [
    "# Show first 5 rows\n",
    "print(\"Sample Data:\")\n",
    "print(df.head(), \"Limit to 5\")"
   ]
  },
  {
   "cell_type": "code",
   "execution_count": 4,
   "id": "132ebc54-4121-4a5d-b901-098976991c8e",
   "metadata": {},
   "outputs": [
    {
     "name": "stdout",
     "output_type": "stream",
     "text": [
      "\n",
      "Column Info:\n",
      "<class 'pandas.core.frame.DataFrame'>\n",
      "RangeIndex: 10000 entries, 0 to 9999\n",
      "Data columns (total 17 columns):\n",
      " #   Column            Non-Null Count  Dtype  \n",
      "---  ------            --------------  -----  \n",
      " 0   Order_ID          10000 non-null  object \n",
      " 1   Product_ID        10000 non-null  object \n",
      " 2   User_ID           10000 non-null  object \n",
      " 3   Order_Date        10000 non-null  object \n",
      " 4   Return_Date       5052 non-null   object \n",
      " 5   Product_Category  10000 non-null  object \n",
      " 6   Product_Price     10000 non-null  float64\n",
      " 7   Order_Quantity    10000 non-null  int64  \n",
      " 8   Return_Reason     5052 non-null   object \n",
      " 9   Return_Status     10000 non-null  object \n",
      " 10  Days_to_Return    5052 non-null   float64\n",
      " 11  User_Age          10000 non-null  int64  \n",
      " 12  User_Gender       10000 non-null  object \n",
      " 13  User_Location     10000 non-null  object \n",
      " 14  Payment_Method    10000 non-null  object \n",
      " 15  Shipping_Method   10000 non-null  object \n",
      " 16  Discount_Applied  10000 non-null  float64\n",
      "dtypes: float64(3), int64(2), object(12)\n",
      "memory usage: 1.3+ MB\n",
      "None\n"
     ]
    }
   ],
   "source": [
    "# Check column names and data types\n",
    "print(\"\\nColumn Info:\")\n",
    "print(df.info())"
   ]
  },
  {
   "cell_type": "code",
   "execution_count": 5,
   "id": "d0773753-102e-4afb-babb-525b62e80f9c",
   "metadata": {},
   "outputs": [
    {
     "name": "stdout",
     "output_type": "stream",
     "text": [
      "\n",
      "Missing Values:\n",
      "Order_ID               0\n",
      "Product_ID             0\n",
      "User_ID                0\n",
      "Order_Date             0\n",
      "Return_Date         4948\n",
      "Product_Category       0\n",
      "Product_Price          0\n",
      "Order_Quantity         0\n",
      "Return_Reason       4948\n",
      "Return_Status          0\n",
      "Days_to_Return      4948\n",
      "User_Age               0\n",
      "User_Gender            0\n",
      "User_Location          0\n",
      "Payment_Method         0\n",
      "Shipping_Method        0\n",
      "Discount_Applied       0\n",
      "dtype: int64\n"
     ]
    }
   ],
   "source": [
    "# Check missing values\n",
    "print(\"\\nMissing Values:\")\n",
    "print(df.isnull().sum())"
   ]
  },
  {
   "cell_type": "code",
   "execution_count": 6,
   "id": "5dc817eb-bf9c-47d1-a2b4-49910789478e",
   "metadata": {},
   "outputs": [],
   "source": [
    "# Handling null cells\n",
    "df['Return_Reason'] = df['Return_Reason'].fillna('Not Returned')\n",
    "df['Days_to_Return'] = df['Days_to_Return'].fillna(0)\n",
    "df['Return_Date'] = df['Return_Date'].fillna('N/A')"
   ]
  },
  {
   "cell_type": "code",
   "execution_count": 7,
   "id": "642ece6f-dc71-42aa-8a0e-2433a84af675",
   "metadata": {},
   "outputs": [
    {
     "name": "stdout",
     "output_type": "stream",
     "text": [
      "\n",
      "Summary Statistics:\n",
      "           Order_ID    Product_ID       User_ID  Order_Date Return_Date  \\\n",
      "count         10000         10000         10000       10000       10000   \n",
      "unique        10000         10000         10000         731         730   \n",
      "top     ORD00009983  PROD00009983  USER00009983  14-03-2024         N/A   \n",
      "freq              1             1             1          26        4948   \n",
      "mean            NaN           NaN           NaN         NaN         NaN   \n",
      "std             NaN           NaN           NaN         NaN         NaN   \n",
      "min             NaN           NaN           NaN         NaN         NaN   \n",
      "25%             NaN           NaN           NaN         NaN         NaN   \n",
      "50%             NaN           NaN           NaN         NaN         NaN   \n",
      "75%             NaN           NaN           NaN         NaN         NaN   \n",
      "max             NaN           NaN           NaN         NaN         NaN   \n",
      "\n",
      "       Product_Category  Product_Price  Order_Quantity Return_Reason  \\\n",
      "count             10000   10000.000000    10000.000000         10000   \n",
      "unique                5            NaN             NaN             5   \n",
      "top               Books            NaN             NaN  Not Returned   \n",
      "freq               2041            NaN             NaN          4948   \n",
      "mean                NaN     252.369307        3.006100           NaN   \n",
      "std                 NaN     142.883865        1.406791           NaN   \n",
      "min                 NaN       5.010000        1.000000           NaN   \n",
      "25%                 NaN     128.650000        2.000000           NaN   \n",
      "50%                 NaN     250.445000        3.000000           NaN   \n",
      "75%                 NaN     377.837500        4.000000           NaN   \n",
      "max                 NaN     499.890000        5.000000           NaN   \n",
      "\n",
      "       Return_Status  Days_to_Return      User_Age User_Gender User_Location  \\\n",
      "count          10000    10000.000000  10000.000000       10000         10000   \n",
      "unique             2             NaN           NaN           2           100   \n",
      "top         Returned             NaN           NaN      Female        City81   \n",
      "freq            5052             NaN           NaN        5052           126   \n",
      "mean             NaN        0.734400     44.195000         NaN           NaN   \n",
      "std              NaN      211.789658     15.311983         NaN           NaN   \n",
      "min              NaN     -719.000000     18.000000         NaN           NaN   \n",
      "25%              NaN       -2.250000     31.000000         NaN           NaN   \n",
      "50%              NaN        0.000000     44.000000         NaN           NaN   \n",
      "75%              NaN        6.000000     57.000000         NaN           NaN   \n",
      "max              NaN      726.000000     70.000000         NaN           NaN   \n",
      "\n",
      "       Payment_Method Shipping_Method  Discount_Applied  \n",
      "count           10000           10000      10000.000000  \n",
      "unique              4               3               NaN  \n",
      "top         Gift Card        Next-Day               NaN  \n",
      "freq             2537            3394               NaN  \n",
      "mean              NaN             NaN         24.992162  \n",
      "std               NaN             NaN         14.363396  \n",
      "min               NaN             NaN          0.000000  \n",
      "25%               NaN             NaN         12.752500  \n",
      "50%               NaN             NaN         24.840000  \n",
      "75%               NaN             NaN         37.605000  \n",
      "max               NaN             NaN         50.000000  \n"
     ]
    }
   ],
   "source": [
    "# Check basic statistics\n",
    "print(\"\\nSummary Statistics:\")\n",
    "print(df.describe(include='all'))"
   ]
  },
  {
   "cell_type": "code",
   "execution_count": 8,
   "id": "124f5e63-421b-4cf3-83d8-27b692d494dd",
   "metadata": {},
   "outputs": [
    {
     "name": "stdout",
     "output_type": "stream",
     "text": [
      "\n",
      "Missing Values:\n",
      "Order_ID            0\n",
      "Product_ID          0\n",
      "User_ID             0\n",
      "Order_Date          0\n",
      "Return_Date         0\n",
      "Product_Category    0\n",
      "Product_Price       0\n",
      "Order_Quantity      0\n",
      "Return_Reason       0\n",
      "Return_Status       0\n",
      "Days_to_Return      0\n",
      "User_Age            0\n",
      "User_Gender         0\n",
      "User_Location       0\n",
      "Payment_Method      0\n",
      "Shipping_Method     0\n",
      "Discount_Applied    0\n",
      "dtype: int64\n"
     ]
    }
   ],
   "source": [
    "# Check missing values\n",
    "print(\"\\nMissing Values:\")\n",
    "print(df.isnull().sum())"
   ]
  },
  {
   "cell_type": "code",
   "execution_count": 11,
   "id": "3e1a48f6-2351-4b08-bb86-5efb4369fea3",
   "metadata": {},
   "outputs": [],
   "source": [
    "df.to_csv(\"C:\\\\Users\\\\SHIVANI\\\\Documents\\\\Shivani Data Analytics\\\\ecommerce_returns.csv\", index=False)"
   ]
  },
  {
   "cell_type": "code",
   "execution_count": null,
   "id": "127e6fe2-9a1e-49b2-b65f-02a3726725ac",
   "metadata": {},
   "outputs": [],
   "source": []
  }
 ],
 "metadata": {
  "kernelspec": {
   "display_name": "Python 3 (ipykernel)",
   "language": "python",
   "name": "python3"
  },
  "language_info": {
   "codemirror_mode": {
    "name": "ipython",
    "version": 3
   },
   "file_extension": ".py",
   "mimetype": "text/x-python",
   "name": "python",
   "nbconvert_exporter": "python",
   "pygments_lexer": "ipython3",
   "version": "3.13.3"
  }
 },
 "nbformat": 4,
 "nbformat_minor": 5
}
